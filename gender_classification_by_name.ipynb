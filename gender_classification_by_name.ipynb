{
  "cells": [
    {
      "cell_type": "markdown",
      "metadata": {
        "id": "-ie5R9D2d437"
      },
      "source": [
        "# **Gender Name Classification**\n",
        "## **Luki Prasetyo**\n",
        "### *https://www.dicoding.com/users/lukiprasetyo*\n",
        "1nd Submission Task for \"Machine Learning Developer - Machine Learning Terapan\""
      ]
    },
    {
      "cell_type": "markdown",
      "metadata": {
        "id": "a0ysBDy3d43_"
      },
      "source": [
        "## Importing Dependencies"
      ]
    },
    {
      "cell_type": "code",
      "execution_count": 1,
      "metadata": {
        "id": "yAV4fRLhd44A"
      },
      "outputs": [],
      "source": [
        "import pandas as pd\n",
        "import numpy as np\n",
        "import matplotlib.pyplot as plt\n",
        "import seaborn as sns\n",
        "import warnings\n",
        "from sklearn.naive_bayes import MultinomialNB\n",
        "from sklearn.tree import DecisionTreeClassifier\n",
        "from sklearn.linear_model import LogisticRegression\n",
        "from sklearn.feature_extraction.text import CountVectorizer\n",
        "from sklearn.model_selection import train_test_split, GridSearchCV\n",
        "from sklearn import metrics\n",
        "warnings.filterwarnings(\"ignore\")\n",
        "%matplotlib inline"
      ]
    },
    {
      "cell_type": "markdown",
      "metadata": {
        "id": "QDCxDKo_d44B"
      },
      "source": [
        "## Load Dataset"
      ]
    },
    {
      "cell_type": "code",
      "source": [
        "!wget --no-check-certificate \\\n",
        "  https://archive.ics.uci.edu/ml/machine-learning-databases/00591/name_gender_dataset.csv"
      ],
      "metadata": {
        "colab": {
          "base_uri": "https://localhost:8080/"
        },
        "id": "E9DIfxCRe9jv",
        "outputId": "9d520d09-16c8-442e-ac6b-567a86360be8"
      },
      "execution_count": 2,
      "outputs": [
        {
          "output_type": "stream",
          "name": "stdout",
          "text": [
            "--2022-11-12 07:34:50--  https://archive.ics.uci.edu/ml/machine-learning-databases/00591/name_gender_dataset.csv\n",
            "Resolving archive.ics.uci.edu (archive.ics.uci.edu)... 128.195.10.252\n",
            "Connecting to archive.ics.uci.edu (archive.ics.uci.edu)|128.195.10.252|:443... connected.\n",
            "HTTP request sent, awaiting response... 200 OK\n",
            "Length: 3774591 (3.6M) [application/x-httpd-php]\n",
            "Saving to: ‘name_gender_dataset.csv.1’\n",
            "\n",
            "name_gender_dataset 100%[===================>]   3.60M  14.3MB/s    in 0.3s    \n",
            "\n",
            "2022-11-12 07:34:51 (14.3 MB/s) - ‘name_gender_dataset.csv.1’ saved [3774591/3774591]\n",
            "\n"
          ]
        }
      ]
    },
    {
      "cell_type": "code",
      "execution_count": 3,
      "metadata": {
        "colab": {
          "base_uri": "https://localhost:8080/",
          "height": 424
        },
        "id": "3gY7YiAqd44C",
        "outputId": "b861cb4f-5603-4aaa-c993-956267d0c960"
      },
      "outputs": [
        {
          "output_type": "execute_result",
          "data": {
            "text/plain": [
              "           Name Gender  Count   Probability\n",
              "114150        A      M      2  5.473480e-09\n",
              "112246        A      F      2  5.473480e-09\n",
              "115618    A'Aff      F      1  2.736740e-09\n",
              "133954   A'Aron      M      1  2.736740e-09\n",
              "115619   A'Dele      F      1  2.736740e-09\n",
              "...         ...    ...    ...           ...\n",
              "110558   Zyvion      M      5  1.368370e-08\n",
              "90632     Zyvon      M      7  1.915720e-08\n",
              "94120   Zyyanna      F      6  1.642040e-08\n",
              "96225     Zyyon      M      6  1.642040e-08\n",
              "87147     Zzyzx      M     10  2.736740e-08\n",
              "\n",
              "[147269 rows x 4 columns]"
            ],
            "text/html": [
              "\n",
              "  <div id=\"df-028a7b64-2feb-49f7-805a-1baeec9fac25\">\n",
              "    <div class=\"colab-df-container\">\n",
              "      <div>\n",
              "<style scoped>\n",
              "    .dataframe tbody tr th:only-of-type {\n",
              "        vertical-align: middle;\n",
              "    }\n",
              "\n",
              "    .dataframe tbody tr th {\n",
              "        vertical-align: top;\n",
              "    }\n",
              "\n",
              "    .dataframe thead th {\n",
              "        text-align: right;\n",
              "    }\n",
              "</style>\n",
              "<table border=\"1\" class=\"dataframe\">\n",
              "  <thead>\n",
              "    <tr style=\"text-align: right;\">\n",
              "      <th></th>\n",
              "      <th>Name</th>\n",
              "      <th>Gender</th>\n",
              "      <th>Count</th>\n",
              "      <th>Probability</th>\n",
              "    </tr>\n",
              "  </thead>\n",
              "  <tbody>\n",
              "    <tr>\n",
              "      <th>114150</th>\n",
              "      <td>A</td>\n",
              "      <td>M</td>\n",
              "      <td>2</td>\n",
              "      <td>5.473480e-09</td>\n",
              "    </tr>\n",
              "    <tr>\n",
              "      <th>112246</th>\n",
              "      <td>A</td>\n",
              "      <td>F</td>\n",
              "      <td>2</td>\n",
              "      <td>5.473480e-09</td>\n",
              "    </tr>\n",
              "    <tr>\n",
              "      <th>115618</th>\n",
              "      <td>A'Aff</td>\n",
              "      <td>F</td>\n",
              "      <td>1</td>\n",
              "      <td>2.736740e-09</td>\n",
              "    </tr>\n",
              "    <tr>\n",
              "      <th>133954</th>\n",
              "      <td>A'Aron</td>\n",
              "      <td>M</td>\n",
              "      <td>1</td>\n",
              "      <td>2.736740e-09</td>\n",
              "    </tr>\n",
              "    <tr>\n",
              "      <th>115619</th>\n",
              "      <td>A'Dele</td>\n",
              "      <td>F</td>\n",
              "      <td>1</td>\n",
              "      <td>2.736740e-09</td>\n",
              "    </tr>\n",
              "    <tr>\n",
              "      <th>...</th>\n",
              "      <td>...</td>\n",
              "      <td>...</td>\n",
              "      <td>...</td>\n",
              "      <td>...</td>\n",
              "    </tr>\n",
              "    <tr>\n",
              "      <th>110558</th>\n",
              "      <td>Zyvion</td>\n",
              "      <td>M</td>\n",
              "      <td>5</td>\n",
              "      <td>1.368370e-08</td>\n",
              "    </tr>\n",
              "    <tr>\n",
              "      <th>90632</th>\n",
              "      <td>Zyvon</td>\n",
              "      <td>M</td>\n",
              "      <td>7</td>\n",
              "      <td>1.915720e-08</td>\n",
              "    </tr>\n",
              "    <tr>\n",
              "      <th>94120</th>\n",
              "      <td>Zyyanna</td>\n",
              "      <td>F</td>\n",
              "      <td>6</td>\n",
              "      <td>1.642040e-08</td>\n",
              "    </tr>\n",
              "    <tr>\n",
              "      <th>96225</th>\n",
              "      <td>Zyyon</td>\n",
              "      <td>M</td>\n",
              "      <td>6</td>\n",
              "      <td>1.642040e-08</td>\n",
              "    </tr>\n",
              "    <tr>\n",
              "      <th>87147</th>\n",
              "      <td>Zzyzx</td>\n",
              "      <td>M</td>\n",
              "      <td>10</td>\n",
              "      <td>2.736740e-08</td>\n",
              "    </tr>\n",
              "  </tbody>\n",
              "</table>\n",
              "<p>147269 rows × 4 columns</p>\n",
              "</div>\n",
              "      <button class=\"colab-df-convert\" onclick=\"convertToInteractive('df-028a7b64-2feb-49f7-805a-1baeec9fac25')\"\n",
              "              title=\"Convert this dataframe to an interactive table.\"\n",
              "              style=\"display:none;\">\n",
              "        \n",
              "  <svg xmlns=\"http://www.w3.org/2000/svg\" height=\"24px\"viewBox=\"0 0 24 24\"\n",
              "       width=\"24px\">\n",
              "    <path d=\"M0 0h24v24H0V0z\" fill=\"none\"/>\n",
              "    <path d=\"M18.56 5.44l.94 2.06.94-2.06 2.06-.94-2.06-.94-.94-2.06-.94 2.06-2.06.94zm-11 1L8.5 8.5l.94-2.06 2.06-.94-2.06-.94L8.5 2.5l-.94 2.06-2.06.94zm10 10l.94 2.06.94-2.06 2.06-.94-2.06-.94-.94-2.06-.94 2.06-2.06.94z\"/><path d=\"M17.41 7.96l-1.37-1.37c-.4-.4-.92-.59-1.43-.59-.52 0-1.04.2-1.43.59L10.3 9.45l-7.72 7.72c-.78.78-.78 2.05 0 2.83L4 21.41c.39.39.9.59 1.41.59.51 0 1.02-.2 1.41-.59l7.78-7.78 2.81-2.81c.8-.78.8-2.07 0-2.86zM5.41 20L4 18.59l7.72-7.72 1.47 1.35L5.41 20z\"/>\n",
              "  </svg>\n",
              "      </button>\n",
              "      \n",
              "  <style>\n",
              "    .colab-df-container {\n",
              "      display:flex;\n",
              "      flex-wrap:wrap;\n",
              "      gap: 12px;\n",
              "    }\n",
              "\n",
              "    .colab-df-convert {\n",
              "      background-color: #E8F0FE;\n",
              "      border: none;\n",
              "      border-radius: 50%;\n",
              "      cursor: pointer;\n",
              "      display: none;\n",
              "      fill: #1967D2;\n",
              "      height: 32px;\n",
              "      padding: 0 0 0 0;\n",
              "      width: 32px;\n",
              "    }\n",
              "\n",
              "    .colab-df-convert:hover {\n",
              "      background-color: #E2EBFA;\n",
              "      box-shadow: 0px 1px 2px rgba(60, 64, 67, 0.3), 0px 1px 3px 1px rgba(60, 64, 67, 0.15);\n",
              "      fill: #174EA6;\n",
              "    }\n",
              "\n",
              "    [theme=dark] .colab-df-convert {\n",
              "      background-color: #3B4455;\n",
              "      fill: #D2E3FC;\n",
              "    }\n",
              "\n",
              "    [theme=dark] .colab-df-convert:hover {\n",
              "      background-color: #434B5C;\n",
              "      box-shadow: 0px 1px 3px 1px rgba(0, 0, 0, 0.15);\n",
              "      filter: drop-shadow(0px 1px 2px rgba(0, 0, 0, 0.3));\n",
              "      fill: #FFFFFF;\n",
              "    }\n",
              "  </style>\n",
              "\n",
              "      <script>\n",
              "        const buttonEl =\n",
              "          document.querySelector('#df-028a7b64-2feb-49f7-805a-1baeec9fac25 button.colab-df-convert');\n",
              "        buttonEl.style.display =\n",
              "          google.colab.kernel.accessAllowed ? 'block' : 'none';\n",
              "\n",
              "        async function convertToInteractive(key) {\n",
              "          const element = document.querySelector('#df-028a7b64-2feb-49f7-805a-1baeec9fac25');\n",
              "          const dataTable =\n",
              "            await google.colab.kernel.invokeFunction('convertToInteractive',\n",
              "                                                     [key], {});\n",
              "          if (!dataTable) return;\n",
              "\n",
              "          const docLinkHtml = 'Like what you see? Visit the ' +\n",
              "            '<a target=\"_blank\" href=https://colab.research.google.com/notebooks/data_table.ipynb>data table notebook</a>'\n",
              "            + ' to learn more about interactive tables.';\n",
              "          element.innerHTML = '';\n",
              "          dataTable['output_type'] = 'display_data';\n",
              "          await google.colab.output.renderOutput(dataTable, element);\n",
              "          const docLink = document.createElement('div');\n",
              "          docLink.innerHTML = docLinkHtml;\n",
              "          element.appendChild(docLink);\n",
              "        }\n",
              "      </script>\n",
              "    </div>\n",
              "  </div>\n",
              "  "
            ]
          },
          "metadata": {},
          "execution_count": 3
        }
      ],
      "source": [
        "df = pd.read_csv(r'name_gender_dataset.csv')\n",
        "df.sort_values(by='Name', ascending=True)"
      ]
    },
    {
      "cell_type": "code",
      "execution_count": 4,
      "metadata": {
        "colab": {
          "base_uri": "https://localhost:8080/",
          "height": 300
        },
        "id": "Hyvm_9sGd44D",
        "outputId": "f82eee02-77c8-4159-872d-06d27f84b5bd"
      },
      "outputs": [
        {
          "output_type": "execute_result",
          "data": {
            "text/plain": [
              "              Count   Probability\n",
              "count  1.472690e+05  1.472690e+05\n",
              "mean   2.481161e+03  6.790295e-06\n",
              "std    4.645472e+04  1.271345e-04\n",
              "min    1.000000e+00  2.736740e-09\n",
              "25%    5.000000e+00  1.368370e-08\n",
              "50%    1.700000e+01  4.652460e-08\n",
              "75%    1.320000e+02  3.612500e-07\n",
              "max    5.304407e+06  1.451679e-02"
            ],
            "text/html": [
              "\n",
              "  <div id=\"df-a4e1a6f8-09ec-415e-83e9-c7a941ca71ad\">\n",
              "    <div class=\"colab-df-container\">\n",
              "      <div>\n",
              "<style scoped>\n",
              "    .dataframe tbody tr th:only-of-type {\n",
              "        vertical-align: middle;\n",
              "    }\n",
              "\n",
              "    .dataframe tbody tr th {\n",
              "        vertical-align: top;\n",
              "    }\n",
              "\n",
              "    .dataframe thead th {\n",
              "        text-align: right;\n",
              "    }\n",
              "</style>\n",
              "<table border=\"1\" class=\"dataframe\">\n",
              "  <thead>\n",
              "    <tr style=\"text-align: right;\">\n",
              "      <th></th>\n",
              "      <th>Count</th>\n",
              "      <th>Probability</th>\n",
              "    </tr>\n",
              "  </thead>\n",
              "  <tbody>\n",
              "    <tr>\n",
              "      <th>count</th>\n",
              "      <td>1.472690e+05</td>\n",
              "      <td>1.472690e+05</td>\n",
              "    </tr>\n",
              "    <tr>\n",
              "      <th>mean</th>\n",
              "      <td>2.481161e+03</td>\n",
              "      <td>6.790295e-06</td>\n",
              "    </tr>\n",
              "    <tr>\n",
              "      <th>std</th>\n",
              "      <td>4.645472e+04</td>\n",
              "      <td>1.271345e-04</td>\n",
              "    </tr>\n",
              "    <tr>\n",
              "      <th>min</th>\n",
              "      <td>1.000000e+00</td>\n",
              "      <td>2.736740e-09</td>\n",
              "    </tr>\n",
              "    <tr>\n",
              "      <th>25%</th>\n",
              "      <td>5.000000e+00</td>\n",
              "      <td>1.368370e-08</td>\n",
              "    </tr>\n",
              "    <tr>\n",
              "      <th>50%</th>\n",
              "      <td>1.700000e+01</td>\n",
              "      <td>4.652460e-08</td>\n",
              "    </tr>\n",
              "    <tr>\n",
              "      <th>75%</th>\n",
              "      <td>1.320000e+02</td>\n",
              "      <td>3.612500e-07</td>\n",
              "    </tr>\n",
              "    <tr>\n",
              "      <th>max</th>\n",
              "      <td>5.304407e+06</td>\n",
              "      <td>1.451679e-02</td>\n",
              "    </tr>\n",
              "  </tbody>\n",
              "</table>\n",
              "</div>\n",
              "      <button class=\"colab-df-convert\" onclick=\"convertToInteractive('df-a4e1a6f8-09ec-415e-83e9-c7a941ca71ad')\"\n",
              "              title=\"Convert this dataframe to an interactive table.\"\n",
              "              style=\"display:none;\">\n",
              "        \n",
              "  <svg xmlns=\"http://www.w3.org/2000/svg\" height=\"24px\"viewBox=\"0 0 24 24\"\n",
              "       width=\"24px\">\n",
              "    <path d=\"M0 0h24v24H0V0z\" fill=\"none\"/>\n",
              "    <path d=\"M18.56 5.44l.94 2.06.94-2.06 2.06-.94-2.06-.94-.94-2.06-.94 2.06-2.06.94zm-11 1L8.5 8.5l.94-2.06 2.06-.94-2.06-.94L8.5 2.5l-.94 2.06-2.06.94zm10 10l.94 2.06.94-2.06 2.06-.94-2.06-.94-.94-2.06-.94 2.06-2.06.94z\"/><path d=\"M17.41 7.96l-1.37-1.37c-.4-.4-.92-.59-1.43-.59-.52 0-1.04.2-1.43.59L10.3 9.45l-7.72 7.72c-.78.78-.78 2.05 0 2.83L4 21.41c.39.39.9.59 1.41.59.51 0 1.02-.2 1.41-.59l7.78-7.78 2.81-2.81c.8-.78.8-2.07 0-2.86zM5.41 20L4 18.59l7.72-7.72 1.47 1.35L5.41 20z\"/>\n",
              "  </svg>\n",
              "      </button>\n",
              "      \n",
              "  <style>\n",
              "    .colab-df-container {\n",
              "      display:flex;\n",
              "      flex-wrap:wrap;\n",
              "      gap: 12px;\n",
              "    }\n",
              "\n",
              "    .colab-df-convert {\n",
              "      background-color: #E8F0FE;\n",
              "      border: none;\n",
              "      border-radius: 50%;\n",
              "      cursor: pointer;\n",
              "      display: none;\n",
              "      fill: #1967D2;\n",
              "      height: 32px;\n",
              "      padding: 0 0 0 0;\n",
              "      width: 32px;\n",
              "    }\n",
              "\n",
              "    .colab-df-convert:hover {\n",
              "      background-color: #E2EBFA;\n",
              "      box-shadow: 0px 1px 2px rgba(60, 64, 67, 0.3), 0px 1px 3px 1px rgba(60, 64, 67, 0.15);\n",
              "      fill: #174EA6;\n",
              "    }\n",
              "\n",
              "    [theme=dark] .colab-df-convert {\n",
              "      background-color: #3B4455;\n",
              "      fill: #D2E3FC;\n",
              "    }\n",
              "\n",
              "    [theme=dark] .colab-df-convert:hover {\n",
              "      background-color: #434B5C;\n",
              "      box-shadow: 0px 1px 3px 1px rgba(0, 0, 0, 0.15);\n",
              "      filter: drop-shadow(0px 1px 2px rgba(0, 0, 0, 0.3));\n",
              "      fill: #FFFFFF;\n",
              "    }\n",
              "  </style>\n",
              "\n",
              "      <script>\n",
              "        const buttonEl =\n",
              "          document.querySelector('#df-a4e1a6f8-09ec-415e-83e9-c7a941ca71ad button.colab-df-convert');\n",
              "        buttonEl.style.display =\n",
              "          google.colab.kernel.accessAllowed ? 'block' : 'none';\n",
              "\n",
              "        async function convertToInteractive(key) {\n",
              "          const element = document.querySelector('#df-a4e1a6f8-09ec-415e-83e9-c7a941ca71ad');\n",
              "          const dataTable =\n",
              "            await google.colab.kernel.invokeFunction('convertToInteractive',\n",
              "                                                     [key], {});\n",
              "          if (!dataTable) return;\n",
              "\n",
              "          const docLinkHtml = 'Like what you see? Visit the ' +\n",
              "            '<a target=\"_blank\" href=https://colab.research.google.com/notebooks/data_table.ipynb>data table notebook</a>'\n",
              "            + ' to learn more about interactive tables.';\n",
              "          element.innerHTML = '';\n",
              "          dataTable['output_type'] = 'display_data';\n",
              "          await google.colab.output.renderOutput(dataTable, element);\n",
              "          const docLink = document.createElement('div');\n",
              "          docLink.innerHTML = docLinkHtml;\n",
              "          element.appendChild(docLink);\n",
              "        }\n",
              "      </script>\n",
              "    </div>\n",
              "  </div>\n",
              "  "
            ]
          },
          "metadata": {},
          "execution_count": 4
        }
      ],
      "source": [
        "df.describe()"
      ]
    },
    {
      "cell_type": "code",
      "execution_count": 5,
      "metadata": {
        "colab": {
          "base_uri": "https://localhost:8080/"
        },
        "id": "h__pQD_Sd44D",
        "outputId": "1ed8b63e-46e6-4ce8-bb31-e68c905a5a64"
      },
      "outputs": [
        {
          "output_type": "stream",
          "name": "stdout",
          "text": [
            "<class 'pandas.core.frame.DataFrame'>\n",
            "RangeIndex: 147269 entries, 0 to 147268\n",
            "Data columns (total 4 columns):\n",
            " #   Column       Non-Null Count   Dtype  \n",
            "---  ------       --------------   -----  \n",
            " 0   Name         147269 non-null  object \n",
            " 1   Gender       147269 non-null  object \n",
            " 2   Count        147269 non-null  int64  \n",
            " 3   Probability  147269 non-null  float64\n",
            "dtypes: float64(1), int64(1), object(2)\n",
            "memory usage: 4.5+ MB\n"
          ]
        }
      ],
      "source": [
        "df.info()"
      ]
    },
    {
      "cell_type": "markdown",
      "metadata": {
        "id": "8IRFZnTmd44D"
      },
      "source": [
        "## Data Visualization"
      ]
    },
    {
      "cell_type": "code",
      "execution_count": 6,
      "metadata": {
        "colab": {
          "base_uri": "https://localhost:8080/",
          "height": 296
        },
        "id": "9qxQu9Jgd44E",
        "outputId": "22dc3951-8e1d-4b09-a9ca-e625e847888c"
      },
      "outputs": [
        {
          "output_type": "execute_result",
          "data": {
            "text/plain": [
              "<matplotlib.axes._subplots.AxesSubplot at 0x7f17c8c40b10>"
            ]
          },
          "metadata": {},
          "execution_count": 6
        },
        {
          "output_type": "display_data",
          "data": {
            "text/plain": [
              "<Figure size 432x288 with 1 Axes>"
            ],
            "image/png": "[encoded data removed]"
          },
          "metadata": {
            "needs_background": "light"
          }
        }
      ],
      "source": [
        "sns.countplot('Gender', data=df)"
      ]
    },
    {
      "cell_type": "code",
      "execution_count": 7,
      "metadata": {
        "colab": {
          "base_uri": "https://localhost:8080/",
          "height": 265
        },
        "id": "5xKfshn9d44E",
        "outputId": "36a64a34-cb29-4995-c3a7-820733c7e66f"
      },
      "outputs": [
        {
          "output_type": "execute_result",
          "data": {
            "text/plain": [
              "<matplotlib.axes._subplots.AxesSubplot at 0x7f17c74e0550>"
            ]
          },
          "metadata": {},
          "execution_count": 7
        },
        {
          "output_type": "display_data",
          "data": {
            "text/plain": [
              "<Figure size 432x288 with 1 Axes>"
            ],
            "image/png": "[encoded data removed]"
          },
          "metadata": {}
        }
      ],
      "source": [
        "df['Gender'].value_counts().plot.pie(explode=[0,0.1], autopct='%1.1f%%', textprops={'color':\"w\", 'fontsize':'20'},shadow=True)"
      ]
    },
    {
      "cell_type": "markdown",
      "metadata": {
        "id": "VkwQkJvsd44F"
      },
      "source": [
        "```\n",
        "There is a significant difference between Men and Women regardless of the number in each name available\n",
        "```"
      ]
    },
    {
      "cell_type": "code",
      "execution_count": 8,
      "metadata": {
        "colab": {
          "base_uri": "https://localhost:8080/",
          "height": 112
        },
        "id": "uDJGxRL-d44F",
        "outputId": "6fbbf3fa-bae7-4040-8ba0-9dd6f10ae187"
      },
      "outputs": [
        {
          "output_type": "execute_result",
          "data": {
            "text/plain": [
              "  Gender      Count  Probability\n",
              "0      F  180623104     0.494319\n",
              "1      M  184775046     0.505681"
            ],
            "text/html": [
              "\n",
              "  <div id=\"df-df4109a0-523e-4c50-8ff3-526ba3b11d86\">\n",
              "    <div class=\"colab-df-container\">\n",
              "      <div>\n",
              "<style scoped>\n",
              "    .dataframe tbody tr th:only-of-type {\n",
              "        vertical-align: middle;\n",
              "    }\n",
              "\n",
              "    .dataframe tbody tr th {\n",
              "        vertical-align: top;\n",
              "    }\n",
              "\n",
              "    .dataframe thead th {\n",
              "        text-align: right;\n",
              "    }\n",
              "</style>\n",
              "<table border=\"1\" class=\"dataframe\">\n",
              "  <thead>\n",
              "    <tr style=\"text-align: right;\">\n",
              "      <th></th>\n",
              "      <th>Gender</th>\n",
              "      <th>Count</th>\n",
              "      <th>Probability</th>\n",
              "    </tr>\n",
              "  </thead>\n",
              "  <tbody>\n",
              "    <tr>\n",
              "      <th>0</th>\n",
              "      <td>F</td>\n",
              "      <td>180623104</td>\n",
              "      <td>0.494319</td>\n",
              "    </tr>\n",
              "    <tr>\n",
              "      <th>1</th>\n",
              "      <td>M</td>\n",
              "      <td>184775046</td>\n",
              "      <td>0.505681</td>\n",
              "    </tr>\n",
              "  </tbody>\n",
              "</table>\n",
              "</div>\n",
              "      <button class=\"colab-df-convert\" onclick=\"convertToInteractive('df-df4109a0-523e-4c50-8ff3-526ba3b11d86')\"\n",
              "              title=\"Convert this dataframe to an interactive table.\"\n",
              "              style=\"display:none;\">\n",
              "        \n",
              "  <svg xmlns=\"http://www.w3.org/2000/svg\" height=\"24px\"viewBox=\"0 0 24 24\"\n",
              "       width=\"24px\">\n",
              "    <path d=\"M0 0h24v24H0V0z\" fill=\"none\"/>\n",
              "    <path d=\"M18.56 5.44l.94 2.06.94-2.06 2.06-.94-2.06-.94-.94-2.06-.94 2.06-2.06.94zm-11 1L8.5 8.5l.94-2.06 2.06-.94-2.06-.94L8.5 2.5l-.94 2.06-2.06.94zm10 10l.94 2.06.94-2.06 2.06-.94-2.06-.94-.94-2.06-.94 2.06-2.06.94z\"/><path d=\"M17.41 7.96l-1.37-1.37c-.4-.4-.92-.59-1.43-.59-.52 0-1.04.2-1.43.59L10.3 9.45l-7.72 7.72c-.78.78-.78 2.05 0 2.83L4 21.41c.39.39.9.59 1.41.59.51 0 1.02-.2 1.41-.59l7.78-7.78 2.81-2.81c.8-.78.8-2.07 0-2.86zM5.41 20L4 18.59l7.72-7.72 1.47 1.35L5.41 20z\"/>\n",
              "  </svg>\n",
              "      </button>\n",
              "      \n",
              "  <style>\n",
              "    .colab-df-container {\n",
              "      display:flex;\n",
              "      flex-wrap:wrap;\n",
              "      gap: 12px;\n",
              "    }\n",
              "\n",
              "    .colab-df-convert {\n",
              "      background-color: #E8F0FE;\n",
              "      border: none;\n",
              "      border-radius: 50%;\n",
              "      cursor: pointer;\n",
              "      display: none;\n",
              "      fill: #1967D2;\n",
              "      height: 32px;\n",
              "      padding: 0 0 0 0;\n",
              "      width: 32px;\n",
              "    }\n",
              "\n",
              "    .colab-df-convert:hover {\n",
              "      background-color: #E2EBFA;\n",
              "      box-shadow: 0px 1px 2px rgba(60, 64, 67, 0.3), 0px 1px 3px 1px rgba(60, 64, 67, 0.15);\n",
              "      fill: #174EA6;\n",
              "    }\n",
              "\n",
              "    [theme=dark] .colab-df-convert {\n",
              "      background-color: #3B4455;\n",
              "      fill: #D2E3FC;\n",
              "    }\n",
              "\n",
              "    [theme=dark] .colab-df-convert:hover {\n",
              "      background-color: #434B5C;\n",
              "      box-shadow: 0px 1px 3px 1px rgba(0, 0, 0, 0.15);\n",
              "      filter: drop-shadow(0px 1px 2px rgba(0, 0, 0, 0.3));\n",
              "      fill: #FFFFFF;\n",
              "    }\n",
              "  </style>\n",
              "\n",
              "      <script>\n",
              "        const buttonEl =\n",
              "          document.querySelector('#df-df4109a0-523e-4c50-8ff3-526ba3b11d86 button.colab-df-convert');\n",
              "        buttonEl.style.display =\n",
              "          google.colab.kernel.accessAllowed ? 'block' : 'none';\n",
              "\n",
              "        async function convertToInteractive(key) {\n",
              "          const element = document.querySelector('#df-df4109a0-523e-4c50-8ff3-526ba3b11d86');\n",
              "          const dataTable =\n",
              "            await google.colab.kernel.invokeFunction('convertToInteractive',\n",
              "                                                     [key], {});\n",
              "          if (!dataTable) return;\n",
              "\n",
              "          const docLinkHtml = 'Like what you see? Visit the ' +\n",
              "            '<a target=\"_blank\" href=https://colab.research.google.com/notebooks/data_table.ipynb>data table notebook</a>'\n",
              "            + ' to learn more about interactive tables.';\n",
              "          element.innerHTML = '';\n",
              "          dataTable['output_type'] = 'display_data';\n",
              "          await google.colab.output.renderOutput(dataTable, element);\n",
              "          const docLink = document.createElement('div');\n",
              "          docLink.innerHTML = docLinkHtml;\n",
              "          element.appendChild(docLink);\n",
              "        }\n",
              "      </script>\n",
              "    </div>\n",
              "  </div>\n",
              "  "
            ]
          },
          "metadata": {},
          "execution_count": 8
        }
      ],
      "source": [
        "df2 = df.groupby('Gender').sum().reset_index()\n",
        "df2.head()"
      ]
    },
    {
      "cell_type": "code",
      "execution_count": 9,
      "metadata": {
        "colab": {
          "base_uri": "https://localhost:8080/",
          "height": 307
        },
        "id": "Cl0YjZuod44G",
        "outputId": "4c04257e-99a4-4881-b21c-7f8394cffd56"
      },
      "outputs": [
        {
          "output_type": "execute_result",
          "data": {
            "text/plain": [
              "<matplotlib.axes._subplots.AxesSubplot at 0x7f17c7449950>"
            ]
          },
          "metadata": {},
          "execution_count": 9
        },
        {
          "output_type": "display_data",
          "data": {
            "text/plain": [
              "<Figure size 432x288 with 1 Axes>"
            ],
            "image/png": "[encoded data removed]"
          },
          "metadata": {
            "needs_background": "light"
          }
        }
      ],
      "source": [
        "sns.barplot(x=\"Gender\", y=\"Count\", data=df2)"
      ]
    },
    {
      "cell_type": "code",
      "execution_count": 10,
      "metadata": {
        "colab": {
          "base_uri": "https://localhost:8080/",
          "height": 265
        },
        "id": "6YhkQ7atd44G",
        "outputId": "6fdf8a4c-a843-424b-d199-f152f1dcca3e"
      },
      "outputs": [
        {
          "output_type": "execute_result",
          "data": {
            "text/plain": [
              "<matplotlib.axes._subplots.AxesSubplot at 0x7f17c73c05d0>"
            ]
          },
          "metadata": {},
          "execution_count": 10
        },
        {
          "output_type": "display_data",
          "data": {
            "text/plain": [
              "<Figure size 432x288 with 1 Axes>"
            ],
            "image/png": "[encoded data removed]"
          },
          "metadata": {}
        }
      ],
      "source": [
        "df2['Count'].plot.pie(autopct='%1.2f%%', textprops={'color':\"w\", 'fontsize':'20'},shadow=True, labels = [\"Female\", \"Male\"])"
      ]
    },
    {
      "cell_type": "markdown",
      "metadata": {
        "id": "NHtxMD_Wd44G"
      },
      "source": [
        "```\n",
        "If we look at the comparison between men and women with the number in each name, then the difference in the number is the same between men and women.\n",
        "```"
      ]
    },
    {
      "cell_type": "markdown",
      "metadata": {
        "id": "sPyg1z7Yd44H"
      },
      "source": [
        "## Data Preparation and Feature Engineering"
      ]
    },
    {
      "cell_type": "markdown",
      "metadata": {
        "id": "8Hea5tyOd44H"
      },
      "source": [
        "### Categorize Data\n",
        "```\n",
        "add a column to categorize different names into a male or female bucket based on whether or not the frequency of males for a name outnumbers the frequency of females.\n",
        "```"
      ]
    },
    {
      "cell_type": "code",
      "execution_count": 11,
      "metadata": {
        "colab": {
          "base_uri": "https://localhost:8080/",
          "height": 455
        },
        "id": "RkFkAOqld44H",
        "outputId": "75070be3-23a7-4ba5-97ee-f357255d807d"
      },
      "outputs": [
        {
          "output_type": "execute_result",
          "data": {
            "text/plain": [
              "Gender     F     M  percent_male  gender\n",
              "Name                                    \n",
              "A        2.0   2.0           0.0  Female\n",
              "A'Aff    1.0   0.0          -1.0  Female\n",
              "A'Aron   0.0   1.0           1.0    Male\n",
              "A'Dele   1.0   0.0          -1.0  Female\n",
              "A'Isha   1.0   0.0          -1.0  Female\n",
              "...      ...   ...           ...     ...\n",
              "Zyvion   0.0   5.0           1.0    Male\n",
              "Zyvon    0.0   7.0           1.0    Male\n",
              "Zyyanna  6.0   0.0          -1.0  Female\n",
              "Zyyon    0.0   6.0           1.0    Male\n",
              "Zzyzx    0.0  10.0           1.0    Male\n",
              "\n",
              "[133910 rows x 4 columns]"
            ],
            "text/html": [
              "\n",
              "  <div id=\"df-67cd2174-8373-40fc-981c-6a77454dc5a1\">\n",
              "    <div class=\"colab-df-container\">\n",
              "      <div>\n",
              "<style scoped>\n",
              "    .dataframe tbody tr th:only-of-type {\n",
              "        vertical-align: middle;\n",
              "    }\n",
              "\n",
              "    .dataframe tbody tr th {\n",
              "        vertical-align: top;\n",
              "    }\n",
              "\n",
              "    .dataframe thead th {\n",
              "        text-align: right;\n",
              "    }\n",
              "</style>\n",
              "<table border=\"1\" class=\"dataframe\">\n",
              "  <thead>\n",
              "    <tr style=\"text-align: right;\">\n",
              "      <th>Gender</th>\n",
              "      <th>F</th>\n",
              "      <th>M</th>\n",
              "      <th>percent_male</th>\n",
              "      <th>gender</th>\n",
              "    </tr>\n",
              "    <tr>\n",
              "      <th>Name</th>\n",
              "      <th></th>\n",
              "      <th></th>\n",
              "      <th></th>\n",
              "      <th></th>\n",
              "    </tr>\n",
              "  </thead>\n",
              "  <tbody>\n",
              "    <tr>\n",
              "      <th>A</th>\n",
              "      <td>2.0</td>\n",
              "      <td>2.0</td>\n",
              "      <td>0.0</td>\n",
              "      <td>Female</td>\n",
              "    </tr>\n",
              "    <tr>\n",
              "      <th>A'Aff</th>\n",
              "      <td>1.0</td>\n",
              "      <td>0.0</td>\n",
              "      <td>-1.0</td>\n",
              "      <td>Female</td>\n",
              "    </tr>\n",
              "    <tr>\n",
              "      <th>A'Aron</th>\n",
              "      <td>0.0</td>\n",
              "      <td>1.0</td>\n",
              "      <td>1.0</td>\n",
              "      <td>Male</td>\n",
              "    </tr>\n",
              "    <tr>\n",
              "      <th>A'Dele</th>\n",
              "      <td>1.0</td>\n",
              "      <td>0.0</td>\n",
              "      <td>-1.0</td>\n",
              "      <td>Female</td>\n",
              "    </tr>\n",
              "    <tr>\n",
              "      <th>A'Isha</th>\n",
              "      <td>1.0</td>\n",
              "      <td>0.0</td>\n",
              "      <td>-1.0</td>\n",
              "      <td>Female</td>\n",
              "    </tr>\n",
              "    <tr>\n",
              "      <th>...</th>\n",
              "      <td>...</td>\n",
              "      <td>...</td>\n",
              "      <td>...</td>\n",
              "      <td>...</td>\n",
              "    </tr>\n",
              "    <tr>\n",
              "      <th>Zyvion</th>\n",
              "      <td>0.0</td>\n",
              "      <td>5.0</td>\n",
              "      <td>1.0</td>\n",
              "      <td>Male</td>\n",
              "    </tr>\n",
              "    <tr>\n",
              "      <th>Zyvon</th>\n",
              "      <td>0.0</td>\n",
              "      <td>7.0</td>\n",
              "      <td>1.0</td>\n",
              "      <td>Male</td>\n",
              "    </tr>\n",
              "    <tr>\n",
              "      <th>Zyyanna</th>\n",
              "      <td>6.0</td>\n",
              "      <td>0.0</td>\n",
              "      <td>-1.0</td>\n",
              "      <td>Female</td>\n",
              "    </tr>\n",
              "    <tr>\n",
              "      <th>Zyyon</th>\n",
              "      <td>0.0</td>\n",
              "      <td>6.0</td>\n",
              "      <td>1.0</td>\n",
              "      <td>Male</td>\n",
              "    </tr>\n",
              "    <tr>\n",
              "      <th>Zzyzx</th>\n",
              "      <td>0.0</td>\n",
              "      <td>10.0</td>\n",
              "      <td>1.0</td>\n",
              "      <td>Male</td>\n",
              "    </tr>\n",
              "  </tbody>\n",
              "</table>\n",
              "<p>133910 rows × 4 columns</p>\n",
              "</div>\n",
              "      <button class=\"colab-df-convert\" onclick=\"convertToInteractive('df-67cd2174-8373-40fc-981c-6a77454dc5a1')\"\n",
              "              title=\"Convert this dataframe to an interactive table.\"\n",
              "              style=\"display:none;\">\n",
              "        \n",
              "  <svg xmlns=\"http://www.w3.org/2000/svg\" height=\"24px\"viewBox=\"0 0 24 24\"\n",
              "       width=\"24px\">\n",
              "    <path d=\"M0 0h24v24H0V0z\" fill=\"none\"/>\n",
              "    <path d=\"M18.56 5.44l.94 2.06.94-2.06 2.06-.94-2.06-.94-.94-2.06-.94 2.06-2.06.94zm-11 1L8.5 8.5l.94-2.06 2.06-.94-2.06-.94L8.5 2.5l-.94 2.06-2.06.94zm10 10l.94 2.06.94-2.06 2.06-.94-2.06-.94-.94-2.06-.94 2.06-2.06.94z\"/><path d=\"M17.41 7.96l-1.37-1.37c-.4-.4-.92-.59-1.43-.59-.52 0-1.04.2-1.43.59L10.3 9.45l-7.72 7.72c-.78.78-.78 2.05 0 2.83L4 21.41c.39.39.9.59 1.41.59.51 0 1.02-.2 1.41-.59l7.78-7.78 2.81-2.81c.8-.78.8-2.07 0-2.86zM5.41 20L4 18.59l7.72-7.72 1.47 1.35L5.41 20z\"/>\n",
              "  </svg>\n",
              "      </button>\n",
              "      \n",
              "  <style>\n",
              "    .colab-df-container {\n",
              "      display:flex;\n",
              "      flex-wrap:wrap;\n",
              "      gap: 12px;\n",
              "    }\n",
              "\n",
              "    .colab-df-convert {\n",
              "      background-color: #E8F0FE;\n",
              "      border: none;\n",
              "      border-radius: 50%;\n",
              "      cursor: pointer;\n",
              "      display: none;\n",
              "      fill: #1967D2;\n",
              "      height: 32px;\n",
              "      padding: 0 0 0 0;\n",
              "      width: 32px;\n",
              "    }\n",
              "\n",
              "    .colab-df-convert:hover {\n",
              "      background-color: #E2EBFA;\n",
              "      box-shadow: 0px 1px 2px rgba(60, 64, 67, 0.3), 0px 1px 3px 1px rgba(60, 64, 67, 0.15);\n",
              "      fill: #174EA6;\n",
              "    }\n",
              "\n",
              "    [theme=dark] .colab-df-convert {\n",
              "      background-color: #3B4455;\n",
              "      fill: #D2E3FC;\n",
              "    }\n",
              "\n",
              "    [theme=dark] .colab-df-convert:hover {\n",
              "      background-color: #434B5C;\n",
              "      box-shadow: 0px 1px 3px 1px rgba(0, 0, 0, 0.15);\n",
              "      filter: drop-shadow(0px 1px 2px rgba(0, 0, 0, 0.3));\n",
              "      fill: #FFFFFF;\n",
              "    }\n",
              "  </style>\n",
              "\n",
              "      <script>\n",
              "        const buttonEl =\n",
              "          document.querySelector('#df-67cd2174-8373-40fc-981c-6a77454dc5a1 button.colab-df-convert');\n",
              "        buttonEl.style.display =\n",
              "          google.colab.kernel.accessAllowed ? 'block' : 'none';\n",
              "\n",
              "        async function convertToInteractive(key) {\n",
              "          const element = document.querySelector('#df-67cd2174-8373-40fc-981c-6a77454dc5a1');\n",
              "          const dataTable =\n",
              "            await google.colab.kernel.invokeFunction('convertToInteractive',\n",
              "                                                     [key], {});\n",
              "          if (!dataTable) return;\n",
              "\n",
              "          const docLinkHtml = 'Like what you see? Visit the ' +\n",
              "            '<a target=\"_blank\" href=https://colab.research.google.com/notebooks/data_table.ipynb>data table notebook</a>'\n",
              "            + ' to learn more about interactive tables.';\n",
              "          element.innerHTML = '';\n",
              "          dataTable['output_type'] = 'display_data';\n",
              "          await google.colab.output.renderOutput(dataTable, element);\n",
              "          const docLink = document.createElement('div');\n",
              "          docLink.innerHTML = docLinkHtml;\n",
              "          element.appendChild(docLink);\n",
              "        }\n",
              "      </script>\n",
              "    </div>\n",
              "  </div>\n",
              "  "
            ]
          },
          "metadata": {},
          "execution_count": 11
        }
      ],
      "source": [
        "namechart = df.reset_index().pivot('Name', 'Gender', 'Count')\n",
        "namechart = namechart.fillna(0)\n",
        "namechart[\"percent_male\"] = ((namechart[\"M\"] - namechart[\"F\"])/ (namechart[\"M\"] + namechart[\"F\"]))\n",
        "namechart['gender'] = np.where(namechart['percent_male'] > 0.001, 'Male', 'Female')\n",
        "namechart"
      ]
    },
    {
      "cell_type": "markdown",
      "metadata": {
        "id": "fBeYMFdkd44I"
      },
      "source": [
        "### Transforming Text to Vector"
      ]
    },
    {
      "cell_type": "code",
      "execution_count": 12,
      "metadata": {
        "colab": {
          "base_uri": "https://localhost:8080/"
        },
        "id": "tAfFLE6ud44I",
        "outputId": "e45f9999-68e2-4db1-aa03-62ae250491bf"
      },
      "outputs": [
        {
          "output_type": "stream",
          "name": "stdout",
          "text": [
            "  (13838, 0)\t1\n",
            "  (1, 1)\t1\n",
            "  (2, 1)\t1\n",
            "  (16392, 1)\t1\n",
            "  (17169, 1)\t1\n",
            "  (18875, 1)\t1\n",
            "  (20928, 1)\t1\n",
            "  (26435, 1)\t1\n",
            "  (26436, 1)\t1\n",
            "  (26437, 1)\t1\n",
            "  (26438, 1)\t1\n",
            "  (26439, 1)\t1\n",
            "  (26440, 1)\t1\n",
            "  (26441, 1)\t1\n",
            "  (26442, 1)\t1\n",
            "  (26443, 1)\t1\n",
            "  (26444, 1)\t1\n",
            "  (26445, 1)\t1\n",
            "  (29242, 1)\t1\n",
            "  (29243, 1)\t1\n",
            "  (41502, 1)\t1\n",
            "  (49621, 1)\t1\n",
            "  (50117, 1)\t1\n",
            "  (53949, 1)\t1\n",
            "  (57452, 1)\t1\n",
            "  :\t:\n",
            "  (125386, 870)\t1\n",
            "  (125387, 870)\t1\n",
            "  (125388, 870)\t1\n",
            "  (125768, 870)\t1\n",
            "  (127010, 870)\t1\n",
            "  (127048, 870)\t1\n",
            "  (129918, 870)\t1\n",
            "  (130186, 870)\t1\n",
            "  (130187, 870)\t1\n",
            "  (130188, 870)\t1\n",
            "  (130189, 870)\t1\n",
            "  (130601, 870)\t1\n",
            "  (131161, 870)\t1\n",
            "  (132572, 870)\t2\n",
            "  (133909, 870)\t1\n",
            "  (82931, 871)\t1\n",
            "  (76404, 872)\t1\n",
            "  (7292, 873)\t1\n",
            "  (124939, 874)\t1\n",
            "  (116114, 875)\t1\n",
            "  (100727, 876)\t1\n",
            "  (6878, 877)\t1\n",
            "  (41500, 877)\t1\n",
            "  (77497, 878)\t1\n",
            "  (82404, 878)\t1\n"
          ]
        }
      ],
      "source": [
        "char_v = CountVectorizer(analyzer='char', ngram_range=(2, 2))\n",
        "X = char_v.fit_transform(namechart.index)\n",
        "X = X.tocsc()\n",
        "y = (namechart.gender == 'Male').values.astype(np.int)\n",
        "print(X)"
      ]
    },
    {
      "cell_type": "markdown",
      "metadata": {
        "id": "HshtIUMRd44J"
      },
      "source": [
        "### Splitting train and validation sets"
      ]
    },
    {
      "cell_type": "code",
      "execution_count": 13,
      "metadata": {
        "id": "S7eKQDCjd44J"
      },
      "outputs": [],
      "source": [
        "train, test = train_test_split(range(namechart.shape[0]), train_size=0.7, random_state=25)\n",
        "mask=np.ones(namechart.shape[0], dtype='int')\n",
        "mask[train]=1\n",
        "mask[test]=0\n",
        "mask = (mask==1)"
      ]
    },
    {
      "cell_type": "markdown",
      "metadata": {
        "id": "WoodW6RId44J"
      },
      "source": [
        "## Creating and Training the Model"
      ]
    },
    {
      "cell_type": "code",
      "execution_count": 14,
      "metadata": {
        "id": "owhkDB9hd44K"
      },
      "outputs": [],
      "source": [
        "X_train=X[mask]\n",
        "y_train=y[mask]\n",
        "X_test=X[~mask]\n",
        "y_test=y[~mask]"
      ]
    },
    {
      "cell_type": "code",
      "execution_count": 15,
      "metadata": {
        "colab": {
          "base_uri": "https://localhost:8080/"
        },
        "id": "ecu6r1lEd44L",
        "outputId": "81f9615f-908e-44f9-ed09-a8751acb56b0"
      },
      "outputs": [
        {
          "output_type": "stream",
          "name": "stdout",
          "text": [
            "72.72\n",
            "72.1\n"
          ]
        }
      ],
      "source": [
        "MNB = MultinomialNB(alpha=1)\n",
        "MNB.fit(X_train, y_train)\n",
        "NB_train_acc = round(MNB.score(X_train, y_train) *100, 2)\n",
        "NB_test_acc = round(MNB.score(X_test, y_test) *100, 2)\n",
        "        \n",
        "print(NB_train_acc)\n",
        "print(NB_test_acc)"
      ]
    },
    {
      "cell_type": "code",
      "execution_count": 16,
      "metadata": {
        "colab": {
          "base_uri": "https://localhost:8080/"
        },
        "id": "QdlOV6ied44L",
        "outputId": "d167dbb1-f9ad-44c2-c3bf-524e7d6e4b43"
      },
      "outputs": [
        {
          "output_type": "stream",
          "name": "stdout",
          "text": [
            "79.73\n",
            "79.19\n"
          ]
        }
      ],
      "source": [
        "logreg = LogisticRegression()\n",
        "logreg.fit(X_train, y_train)\n",
        "log_train_acc = round(logreg.score(X_train, y_train) * 100, 2)\n",
        "log_test_acc = round(logreg.score(X_test, y_test) * 100, 2)\n",
        "\n",
        "print(log_train_acc)\n",
        "print(log_test_acc)"
      ]
    },
    {
      "cell_type": "code",
      "execution_count": 17,
      "metadata": {
        "colab": {
          "base_uri": "https://localhost:8080/"
        },
        "id": "upfr-KGfd44L",
        "outputId": "d4912da9-5aa0-4cd5-a2bf-b093eb3a17c6"
      },
      "outputs": [
        {
          "output_type": "stream",
          "name": "stdout",
          "text": [
            "74.19\n",
            "72.24\n"
          ]
        }
      ],
      "source": [
        "DT = DecisionTreeClassifier(max_depth=15, random_state=42)\n",
        "DT.fit(X_train, y_train)\n",
        "DT_train_acc = round(DT.score(X_train, y_train) * 100, 2)\n",
        "DT_test_acc = round(DT.score(X_test, y_test) * 100, 2)\n",
        "\n",
        "print(DT_train_acc)\n",
        "print(DT_test_acc)"
      ]
    },
    {
      "cell_type": "code",
      "execution_count": 18,
      "metadata": {
        "colab": {
          "base_uri": "https://localhost:8080/",
          "height": 143
        },
        "id": "P4VdYCOCd44M",
        "outputId": "8adc5d13-3390-4c91-a5e2-3b91301ca119"
      },
      "outputs": [
        {
          "output_type": "execute_result",
          "data": {
            "text/plain": [
              "                 Model  Train_Score  Test_Score\n",
              "1  Logistic Regression        79.73       79.19\n",
              "2        Decision Tree        74.19       72.24\n",
              "0          Naive Bayes        72.72       72.10"
            ],
            "text/html": [
              "\n",
              "  <div id=\"df-bcea7cea-fb27-409b-873a-37843a4c464f\">\n",
              "    <div class=\"colab-df-container\">\n",
              "      <div>\n",
              "<style scoped>\n",
              "    .dataframe tbody tr th:only-of-type {\n",
              "        vertical-align: middle;\n",
              "    }\n",
              "\n",
              "    .dataframe tbody tr th {\n",
              "        vertical-align: top;\n",
              "    }\n",
              "\n",
              "    .dataframe thead th {\n",
              "        text-align: right;\n",
              "    }\n",
              "</style>\n",
              "<table border=\"1\" class=\"dataframe\">\n",
              "  <thead>\n",
              "    <tr style=\"text-align: right;\">\n",
              "      <th></th>\n",
              "      <th>Model</th>\n",
              "      <th>Train_Score</th>\n",
              "      <th>Test_Score</th>\n",
              "    </tr>\n",
              "  </thead>\n",
              "  <tbody>\n",
              "    <tr>\n",
              "      <th>1</th>\n",
              "      <td>Logistic Regression</td>\n",
              "      <td>79.73</td>\n",
              "      <td>79.19</td>\n",
              "    </tr>\n",
              "    <tr>\n",
              "      <th>2</th>\n",
              "      <td>Decision Tree</td>\n",
              "      <td>74.19</td>\n",
              "      <td>72.24</td>\n",
              "    </tr>\n",
              "    <tr>\n",
              "      <th>0</th>\n",
              "      <td>Naive Bayes</td>\n",
              "      <td>72.72</td>\n",
              "      <td>72.10</td>\n",
              "    </tr>\n",
              "  </tbody>\n",
              "</table>\n",
              "</div>\n",
              "      <button class=\"colab-df-convert\" onclick=\"convertToInteractive('df-bcea7cea-fb27-409b-873a-37843a4c464f')\"\n",
              "              title=\"Convert this dataframe to an interactive table.\"\n",
              "              style=\"display:none;\">\n",
              "        \n",
              "  <svg xmlns=\"http://www.w3.org/2000/svg\" height=\"24px\"viewBox=\"0 0 24 24\"\n",
              "       width=\"24px\">\n",
              "    <path d=\"M0 0h24v24H0V0z\" fill=\"none\"/>\n",
              "    <path d=\"M18.56 5.44l.94 2.06.94-2.06 2.06-.94-2.06-.94-.94-2.06-.94 2.06-2.06.94zm-11 1L8.5 8.5l.94-2.06 2.06-.94-2.06-.94L8.5 2.5l-.94 2.06-2.06.94zm10 10l.94 2.06.94-2.06 2.06-.94-2.06-.94-.94-2.06-.94 2.06-2.06.94z\"/><path d=\"M17.41 7.96l-1.37-1.37c-.4-.4-.92-.59-1.43-.59-.52 0-1.04.2-1.43.59L10.3 9.45l-7.72 7.72c-.78.78-.78 2.05 0 2.83L4 21.41c.39.39.9.59 1.41.59.51 0 1.02-.2 1.41-.59l7.78-7.78 2.81-2.81c.8-.78.8-2.07 0-2.86zM5.41 20L4 18.59l7.72-7.72 1.47 1.35L5.41 20z\"/>\n",
              "  </svg>\n",
              "      </button>\n",
              "      \n",
              "  <style>\n",
              "    .colab-df-container {\n",
              "      display:flex;\n",
              "      flex-wrap:wrap;\n",
              "      gap: 12px;\n",
              "    }\n",
              "\n",
              "    .colab-df-convert {\n",
              "      background-color: #E8F0FE;\n",
              "      border: none;\n",
              "      border-radius: 50%;\n",
              "      cursor: pointer;\n",
              "      display: none;\n",
              "      fill: #1967D2;\n",
              "      height: 32px;\n",
              "      padding: 0 0 0 0;\n",
              "      width: 32px;\n",
              "    }\n",
              "\n",
              "    .colab-df-convert:hover {\n",
              "      background-color: #E2EBFA;\n",
              "      box-shadow: 0px 1px 2px rgba(60, 64, 67, 0.3), 0px 1px 3px 1px rgba(60, 64, 67, 0.15);\n",
              "      fill: #174EA6;\n",
              "    }\n",
              "\n",
              "    [theme=dark] .colab-df-convert {\n",
              "      background-color: #3B4455;\n",
              "      fill: #D2E3FC;\n",
              "    }\n",
              "\n",
              "    [theme=dark] .colab-df-convert:hover {\n",
              "      background-color: #434B5C;\n",
              "      box-shadow: 0px 1px 3px 1px rgba(0, 0, 0, 0.15);\n",
              "      filter: drop-shadow(0px 1px 2px rgba(0, 0, 0, 0.3));\n",
              "      fill: #FFFFFF;\n",
              "    }\n",
              "  </style>\n",
              "\n",
              "      <script>\n",
              "        const buttonEl =\n",
              "          document.querySelector('#df-bcea7cea-fb27-409b-873a-37843a4c464f button.colab-df-convert');\n",
              "        buttonEl.style.display =\n",
              "          google.colab.kernel.accessAllowed ? 'block' : 'none';\n",
              "\n",
              "        async function convertToInteractive(key) {\n",
              "          const element = document.querySelector('#df-bcea7cea-fb27-409b-873a-37843a4c464f');\n",
              "          const dataTable =\n",
              "            await google.colab.kernel.invokeFunction('convertToInteractive',\n",
              "                                                     [key], {});\n",
              "          if (!dataTable) return;\n",
              "\n",
              "          const docLinkHtml = 'Like what you see? Visit the ' +\n",
              "            '<a target=\"_blank\" href=https://colab.research.google.com/notebooks/data_table.ipynb>data table notebook</a>'\n",
              "            + ' to learn more about interactive tables.';\n",
              "          element.innerHTML = '';\n",
              "          dataTable['output_type'] = 'display_data';\n",
              "          await google.colab.output.renderOutput(dataTable, element);\n",
              "          const docLink = document.createElement('div');\n",
              "          docLink.innerHTML = docLinkHtml;\n",
              "          element.appendChild(docLink);\n",
              "        }\n",
              "      </script>\n",
              "    </div>\n",
              "  </div>\n",
              "  "
            ]
          },
          "metadata": {},
          "execution_count": 18
        }
      ],
      "source": [
        "models = pd.DataFrame({\n",
        "    'Model': ['Naive Bayes', 'Logistic Regression', 'Decision Tree'],\n",
        "    'Train_Score': [NB_train_acc, log_train_acc, DT_train_acc],\n",
        "    'Test_Score': [NB_test_acc, log_test_acc, DT_test_acc]})\n",
        "models.sort_values(by='Train_Score', ascending=False)"
      ]
    },
    {
      "cell_type": "code",
      "execution_count": 53,
      "metadata": {
        "id": "r3AWCbood44N"
      },
      "outputs": [],
      "source": [
        "param_grid = {\n",
        "    'penalty' : ['l1', 'l2'],\n",
        "    'solver' : ['newton-cg', 'lbfgs', 'liblinear'],\n",
        "}"
      ]
    },
    {
      "cell_type": "code",
      "execution_count": 54,
      "metadata": {
        "id": "R0X4mrr6d44N"
      },
      "outputs": [],
      "source": [
        "LR = LogisticRegression()\n",
        "clf = GridSearchCV(LR, param_grid = param_grid, cv = 25, verbose=3, scoring='accuracy')"
      ]
    },
    {
      "cell_type": "code",
      "execution_count": 55,
      "metadata": {
        "colab": {
          "base_uri": "https://localhost:8080/"
        },
        "id": "jBbzwYbYd44N",
        "outputId": "8f3c80c3-852d-4d48-bcae-11b217e4eac8"
      },
      "outputs": [
        {
          "output_type": "stream",
          "name": "stdout",
          "text": [
            "Fitting 25 folds for each of 6 candidates, totalling 150 fits\n",
            "[CV 1/25] END .......penalty=l1, solver=newton-cg;, score=nan total time=   0.0s\n",
            "[CV 2/25] END .......penalty=l1, solver=newton-cg;, score=nan total time=   0.0s\n",
            "[CV 3/25] END .......penalty=l1, solver=newton-cg;, score=nan total time=   0.0s\n",
            "[CV 4/25] END .......penalty=l1, solver=newton-cg;, score=nan total time=   0.0s\n",
            "[CV 5/25] END .......penalty=l1, solver=newton-cg;, score=nan total time=   0.0s\n",
            "[CV 6/25] END .......penalty=l1, solver=newton-cg;, score=nan total time=   0.0s\n",
            "[CV 7/25] END .......penalty=l1, solver=newton-cg;, score=nan total time=   0.0s\n",
            "[CV 8/25] END .......penalty=l1, solver=newton-cg;, score=nan total time=   0.0s\n",
            "[CV 9/25] END .......penalty=l1, solver=newton-cg;, score=nan total time=   0.0s\n",
            "[CV 10/25] END ......penalty=l1, solver=newton-cg;, score=nan total time=   0.0s\n",
            "[CV 11/25] END ......penalty=l1, solver=newton-cg;, score=nan total time=   0.0s\n",
            "[CV 12/25] END ......penalty=l1, solver=newton-cg;, score=nan total time=   0.0s\n",
            "[CV 13/25] END ......penalty=l1, solver=newton-cg;, score=nan total time=   0.0s\n",
            "[CV 14/25] END ......penalty=l1, solver=newton-cg;, score=nan total time=   0.0s\n",
            "[CV 15/25] END ......penalty=l1, solver=newton-cg;, score=nan total time=   0.0s\n",
            "[CV 16/25] END ......penalty=l1, solver=newton-cg;, score=nan total time=   0.0s\n",
            "[CV 17/25] END ......penalty=l1, solver=newton-cg;, score=nan total time=   0.0s\n",
            "[CV 18/25] END ......penalty=l1, solver=newton-cg;, score=nan total time=   0.0s\n",
            "[CV 19/25] END ......penalty=l1, solver=newton-cg;, score=nan total time=   0.0s\n",
            "[CV 20/25] END ......penalty=l1, solver=newton-cg;, score=nan total time=   0.0s\n",
            "[CV 21/25] END ......penalty=l1, solver=newton-cg;, score=nan total time=   0.0s\n",
            "[CV 22/25] END ......penalty=l1, solver=newton-cg;, score=nan total time=   0.0s\n",
            "[CV 23/25] END ......penalty=l1, solver=newton-cg;, score=nan total time=   0.0s\n",
            "[CV 24/25] END ......penalty=l1, solver=newton-cg;, score=nan total time=   0.0s\n",
            "[CV 25/25] END ......penalty=l1, solver=newton-cg;, score=nan total time=   0.0s\n",
            "[CV 1/25] END ...........penalty=l1, solver=lbfgs;, score=nan total time=   0.0s\n",
            "[CV 2/25] END ...........penalty=l1, solver=lbfgs;, score=nan total time=   0.0s\n",
            "[CV 3/25] END ...........penalty=l1, solver=lbfgs;, score=nan total time=   0.0s\n",
            "[CV 4/25] END ...........penalty=l1, solver=lbfgs;, score=nan total time=   0.0s\n",
            "[CV 5/25] END ...........penalty=l1, solver=lbfgs;, score=nan total time=   0.0s\n",
            "[CV 6/25] END ...........penalty=l1, solver=lbfgs;, score=nan total time=   0.0s\n",
            "[CV 7/25] END ...........penalty=l1, solver=lbfgs;, score=nan total time=   0.0s\n",
            "[CV 8/25] END ...........penalty=l1, solver=lbfgs;, score=nan total time=   0.0s\n",
            "[CV 9/25] END ...........penalty=l1, solver=lbfgs;, score=nan total time=   0.0s\n",
            "[CV 10/25] END ..........penalty=l1, solver=lbfgs;, score=nan total time=   0.0s\n",
            "[CV 11/25] END ..........penalty=l1, solver=lbfgs;, score=nan total time=   0.0s\n",
            "[CV 12/25] END ..........penalty=l1, solver=lbfgs;, score=nan total time=   0.0s\n",
            "[CV 13/25] END ..........penalty=l1, solver=lbfgs;, score=nan total time=   0.0s\n",
            "[CV 14/25] END ..........penalty=l1, solver=lbfgs;, score=nan total time=   0.0s\n",
            "[CV 15/25] END ..........penalty=l1, solver=lbfgs;, score=nan total time=   0.0s\n",
            "[CV 16/25] END ..........penalty=l1, solver=lbfgs;, score=nan total time=   0.0s\n",
            "[CV 17/25] END ..........penalty=l1, solver=lbfgs;, score=nan total time=   0.0s\n",
            "[CV 18/25] END ..........penalty=l1, solver=lbfgs;, score=nan total time=   0.0s\n",
            "[CV 19/25] END ..........penalty=l1, solver=lbfgs;, score=nan total time=   0.0s\n",
            "[CV 20/25] END ..........penalty=l1, solver=lbfgs;, score=nan total time=   0.0s\n",
            "[CV 21/25] END ..........penalty=l1, solver=lbfgs;, score=nan total time=   0.0s\n",
            "[CV 22/25] END ..........penalty=l1, solver=lbfgs;, score=nan total time=   0.0s\n",
            "[CV 23/25] END ..........penalty=l1, solver=lbfgs;, score=nan total time=   0.0s\n",
            "[CV 24/25] END ..........penalty=l1, solver=lbfgs;, score=nan total time=   0.0s\n",
            "[CV 25/25] END ..........penalty=l1, solver=lbfgs;, score=nan total time=   0.0s\n",
            "[CV 1/25] END .....penalty=l1, solver=liblinear;, score=0.633 total time=   0.6s\n",
            "[CV 2/25] END .....penalty=l1, solver=liblinear;, score=0.666 total time=   0.5s\n",
            "[CV 3/25] END .....penalty=l1, solver=liblinear;, score=0.469 total time=   0.5s\n",
            "[CV 4/25] END .....penalty=l1, solver=liblinear;, score=0.684 total time=   0.5s\n",
            "[CV 5/25] END .....penalty=l1, solver=liblinear;, score=0.708 total time=   0.5s\n",
            "[CV 6/25] END .....penalty=l1, solver=liblinear;, score=0.804 total time=   0.5s\n",
            "[CV 7/25] END .....penalty=l1, solver=liblinear;, score=0.791 total time=   0.6s\n",
            "[CV 8/25] END .....penalty=l1, solver=liblinear;, score=0.727 total time=   0.5s\n",
            "[CV 9/25] END .....penalty=l1, solver=liblinear;, score=0.720 total time=   0.5s\n",
            "[CV 10/25] END ....penalty=l1, solver=liblinear;, score=0.709 total time=   0.5s\n",
            "[CV 11/25] END ....penalty=l1, solver=liblinear;, score=0.686 total time=   0.6s\n",
            "[CV 12/25] END ....penalty=l1, solver=liblinear;, score=0.638 total time=   0.6s\n",
            "[CV 13/25] END ....penalty=l1, solver=liblinear;, score=0.608 total time=   0.6s\n",
            "[CV 14/25] END ....penalty=l1, solver=liblinear;, score=0.722 total time=   0.6s\n",
            "[CV 15/25] END ....penalty=l1, solver=liblinear;, score=0.664 total time=   0.5s\n",
            "[CV 16/25] END ....penalty=l1, solver=liblinear;, score=0.727 total time=   0.5s\n",
            "[CV 17/25] END ....penalty=l1, solver=liblinear;, score=0.707 total time=   0.5s\n",
            "[CV 18/25] END ....penalty=l1, solver=liblinear;, score=0.714 total time=   0.5s\n",
            "[CV 19/25] END ....penalty=l1, solver=liblinear;, score=0.724 total time=   0.5s\n",
            "[CV 20/25] END ....penalty=l1, solver=liblinear;, score=0.732 total time=   0.5s\n",
            "[CV 21/25] END ....penalty=l1, solver=liblinear;, score=0.706 total time=   0.5s\n",
            "[CV 22/25] END ....penalty=l1, solver=liblinear;, score=0.741 total time=   0.5s\n",
            "[CV 23/25] END ....penalty=l1, solver=liblinear;, score=0.813 total time=   0.5s\n",
            "[CV 24/25] END ....penalty=l1, solver=liblinear;, score=0.700 total time=   0.5s\n",
            "[CV 25/25] END ....penalty=l1, solver=liblinear;, score=0.735 total time=   0.6s\n",
            "[CV 1/25] END .....penalty=l2, solver=newton-cg;, score=0.635 total time=   2.1s\n",
            "[CV 2/25] END .....penalty=l2, solver=newton-cg;, score=0.669 total time=   1.9s\n",
            "[CV 3/25] END .....penalty=l2, solver=newton-cg;, score=0.477 total time=   1.9s\n",
            "[CV 4/25] END .....penalty=l2, solver=newton-cg;, score=0.689 total time=   1.9s\n",
            "[CV 5/25] END .....penalty=l2, solver=newton-cg;, score=0.707 total time=   2.7s\n",
            "[CV 6/25] END .....penalty=l2, solver=newton-cg;, score=0.804 total time=   2.4s\n",
            "[CV 7/25] END .....penalty=l2, solver=newton-cg;, score=0.791 total time=   2.3s\n",
            "[CV 8/25] END .....penalty=l2, solver=newton-cg;, score=0.732 total time=   2.7s\n",
            "[CV 9/25] END .....penalty=l2, solver=newton-cg;, score=0.722 total time=   2.0s\n",
            "[CV 10/25] END ....penalty=l2, solver=newton-cg;, score=0.710 total time=   2.0s\n",
            "[CV 11/25] END ....penalty=l2, solver=newton-cg;, score=0.687 total time=   1.9s\n",
            "[CV 12/25] END ....penalty=l2, solver=newton-cg;, score=0.641 total time=   2.0s\n",
            "[CV 13/25] END ....penalty=l2, solver=newton-cg;, score=0.608 total time=   1.9s\n",
            "[CV 14/25] END ....penalty=l2, solver=newton-cg;, score=0.720 total time=   1.9s\n",
            "[CV 15/25] END ....penalty=l2, solver=newton-cg;, score=0.665 total time=   2.0s\n",
            "[CV 16/25] END ....penalty=l2, solver=newton-cg;, score=0.729 total time=   1.9s\n",
            "[CV 17/25] END ....penalty=l2, solver=newton-cg;, score=0.706 total time=   2.0s\n",
            "[CV 18/25] END ....penalty=l2, solver=newton-cg;, score=0.714 total time=   1.9s\n",
            "[CV 19/25] END ....penalty=l2, solver=newton-cg;, score=0.725 total time=   1.8s\n",
            "[CV 20/25] END ....penalty=l2, solver=newton-cg;, score=0.734 total time=   2.0s\n",
            "[CV 21/25] END ....penalty=l2, solver=newton-cg;, score=0.707 total time=   2.1s\n",
            "[CV 22/25] END ....penalty=l2, solver=newton-cg;, score=0.740 total time=   2.0s\n",
            "[CV 23/25] END ....penalty=l2, solver=newton-cg;, score=0.813 total time=   2.1s\n",
            "[CV 24/25] END ....penalty=l2, solver=newton-cg;, score=0.710 total time=   1.9s\n",
            "[CV 25/25] END ....penalty=l2, solver=newton-cg;, score=0.741 total time=   1.9s\n",
            "[CV 1/25] END .........penalty=l2, solver=lbfgs;, score=0.635 total time=   1.4s\n",
            "[CV 2/25] END .........penalty=l2, solver=lbfgs;, score=0.668 total time=   1.4s\n",
            "[CV 3/25] END .........penalty=l2, solver=lbfgs;, score=0.479 total time=   1.5s\n",
            "[CV 4/25] END .........penalty=l2, solver=lbfgs;, score=0.690 total time=   1.3s\n",
            "[CV 5/25] END .........penalty=l2, solver=lbfgs;, score=0.706 total time=   1.4s\n",
            "[CV 6/25] END .........penalty=l2, solver=lbfgs;, score=0.805 total time=   1.4s\n",
            "[CV 7/25] END .........penalty=l2, solver=lbfgs;, score=0.791 total time=   1.8s\n",
            "[CV 8/25] END .........penalty=l2, solver=lbfgs;, score=0.734 total time=   1.8s\n",
            "[CV 9/25] END .........penalty=l2, solver=lbfgs;, score=0.722 total time=   1.4s\n",
            "[CV 10/25] END ........penalty=l2, solver=lbfgs;, score=0.710 total time=   1.4s\n",
            "[CV 11/25] END ........penalty=l2, solver=lbfgs;, score=0.686 total time=   1.4s\n",
            "[CV 12/25] END ........penalty=l2, solver=lbfgs;, score=0.641 total time=   1.3s\n",
            "[CV 13/25] END ........penalty=l2, solver=lbfgs;, score=0.607 total time=   1.4s\n",
            "[CV 14/25] END ........penalty=l2, solver=lbfgs;, score=0.721 total time=   1.3s\n",
            "[CV 15/25] END ........penalty=l2, solver=lbfgs;, score=0.666 total time=   1.3s\n",
            "[CV 16/25] END ........penalty=l2, solver=lbfgs;, score=0.727 total time=   1.4s\n",
            "[CV 17/25] END ........penalty=l2, solver=lbfgs;, score=0.706 total time=   1.3s\n",
            "[CV 18/25] END ........penalty=l2, solver=lbfgs;, score=0.713 total time=   1.3s\n",
            "[CV 19/25] END ........penalty=l2, solver=lbfgs;, score=0.727 total time=   1.3s\n",
            "[CV 20/25] END ........penalty=l2, solver=lbfgs;, score=0.735 total time=   1.4s\n",
            "[CV 21/25] END ........penalty=l2, solver=lbfgs;, score=0.706 total time=   1.3s\n",
            "[CV 22/25] END ........penalty=l2, solver=lbfgs;, score=0.740 total time=   1.4s\n",
            "[CV 23/25] END ........penalty=l2, solver=lbfgs;, score=0.814 total time=   1.3s\n",
            "[CV 24/25] END ........penalty=l2, solver=lbfgs;, score=0.713 total time=   1.3s\n",
            "[CV 25/25] END ........penalty=l2, solver=lbfgs;, score=0.741 total time=   1.3s\n",
            "[CV 1/25] END .....penalty=l2, solver=liblinear;, score=0.635 total time=   1.3s\n",
            "[CV 2/25] END .....penalty=l2, solver=liblinear;, score=0.669 total time=   0.9s\n",
            "[CV 3/25] END .....penalty=l2, solver=liblinear;, score=0.477 total time=   0.8s\n",
            "[CV 4/25] END .....penalty=l2, solver=liblinear;, score=0.689 total time=   0.8s\n",
            "[CV 5/25] END .....penalty=l2, solver=liblinear;, score=0.707 total time=   0.9s\n",
            "[CV 6/25] END .....penalty=l2, solver=liblinear;, score=0.804 total time=   0.9s\n",
            "[CV 7/25] END .....penalty=l2, solver=liblinear;, score=0.791 total time=   0.9s\n",
            "[CV 8/25] END .....penalty=l2, solver=liblinear;, score=0.732 total time=   0.8s\n",
            "[CV 9/25] END .....penalty=l2, solver=liblinear;, score=0.722 total time=   0.9s\n",
            "[CV 10/25] END ....penalty=l2, solver=liblinear;, score=0.710 total time=   0.9s\n",
            "[CV 11/25] END ....penalty=l2, solver=liblinear;, score=0.687 total time=   0.9s\n",
            "[CV 12/25] END ....penalty=l2, solver=liblinear;, score=0.641 total time=   0.8s\n",
            "[CV 13/25] END ....penalty=l2, solver=liblinear;, score=0.608 total time=   0.9s\n",
            "[CV 14/25] END ....penalty=l2, solver=liblinear;, score=0.720 total time=   0.8s\n",
            "[CV 15/25] END ....penalty=l2, solver=liblinear;, score=0.665 total time=   0.9s\n",
            "[CV 16/25] END ....penalty=l2, solver=liblinear;, score=0.729 total time=   0.8s\n",
            "[CV 17/25] END ....penalty=l2, solver=liblinear;, score=0.706 total time=   0.9s\n",
            "[CV 18/25] END ....penalty=l2, solver=liblinear;, score=0.714 total time=   0.8s\n",
            "[CV 19/25] END ....penalty=l2, solver=liblinear;, score=0.725 total time=   0.9s\n",
            "[CV 20/25] END ....penalty=l2, solver=liblinear;, score=0.734 total time=   0.8s\n",
            "[CV 21/25] END ....penalty=l2, solver=liblinear;, score=0.707 total time=   0.9s\n",
            "[CV 22/25] END ....penalty=l2, solver=liblinear;, score=0.740 total time=   1.0s\n",
            "[CV 23/25] END ....penalty=l2, solver=liblinear;, score=0.813 total time=   1.3s\n",
            "[CV 24/25] END ....penalty=l2, solver=liblinear;, score=0.710 total time=   1.1s\n",
            "[CV 25/25] END ....penalty=l2, solver=liblinear;, score=0.741 total time=   1.1s\n"
          ]
        }
      ],
      "source": [
        "best_clf = clf.fit(X_train, y_train)"
      ]
    },
    {
      "cell_type": "code",
      "source": [
        "print('Best Penalty:', best_clf.best_estimator_.get_params()['penalty'])\n",
        "print('Best C:', best_clf.best_estimator_.get_params()['C'])\n",
        "print('Best Solver:', best_clf.best_estimator_.get_params()['solver'])"
      ],
      "metadata": {
        "colab": {
          "base_uri": "https://localhost:8080/"
        },
        "id": "pkZ1cSrjlFTN",
        "outputId": "c49a47d9-2d1f-40fe-ba62-8a8fefd5dd67"
      },
      "execution_count": 56,
      "outputs": [
        {
          "output_type": "stream",
          "name": "stdout",
          "text": [
            "Best Penalty: l2\n",
            "Best C: 1.0\n",
            "Best Solver: lbfgs\n"
          ]
        }
      ]
    },
    {
      "cell_type": "code",
      "source": [
        "LR_train_acc = round(best_clf.score(X_train, y_train) * 100, 2)\n",
        "LR_test_acc = round(best_clf.score(X_test, y_test) * 100, 2)\n",
        "y_pred = best_clf.predict(X_test)\n",
        "print(LR_train_acc)\n",
        "print(LR_test_acc)"
      ],
      "metadata": {
        "colab": {
          "base_uri": "https://localhost:8080/"
        },
        "id": "GHZbhM6yKpuM",
        "outputId": "da09552c-365a-469a-b701-18407844a4f4"
      },
      "execution_count": 57,
      "outputs": [
        {
          "output_type": "stream",
          "name": "stdout",
          "text": [
            "79.73\n",
            "79.19\n"
          ]
        }
      ]
    },
    {
      "cell_type": "markdown",
      "metadata": {
        "id": "i13UOI__d44N"
      },
      "source": [
        "## Testing Prediciton"
      ]
    },
    {
      "cell_type": "code",
      "execution_count": 58,
      "metadata": {
        "id": "H623EpTCd44O"
      },
      "outputs": [],
      "source": [
        "def test_name(x):\n",
        "    str(x)\n",
        "    new = char_v.transform([x])\n",
        "    y_pred = best_clf.predict(new)\n",
        "    if (y_pred == 1):\n",
        "        print(\"This name most likely a male name\")\n",
        "    else:\n",
        "        print(\"This name most likely a female name\")"
      ]
    },
    {
      "cell_type": "code",
      "execution_count": 59,
      "metadata": {
        "id": "AXP7QW-4d44O",
        "outputId": "6ad26bae-2e89-4136-988f-6df72e823691",
        "colab": {
          "base_uri": "https://localhost:8080/"
        }
      },
      "outputs": [
        {
          "output_type": "stream",
          "name": "stdout",
          "text": [
            "This name most likely a male name\n"
          ]
        }
      ],
      "source": [
        "test_name('Virel')"
      ]
    },
    {
      "cell_type": "code",
      "execution_count": 60,
      "metadata": {
        "id": "IZzxo-Whd44O",
        "outputId": "62ded5ce-9fe0-41e2-d153-50f861a34f29",
        "colab": {
          "base_uri": "https://localhost:8080/"
        }
      },
      "outputs": [
        {
          "output_type": "stream",
          "name": "stdout",
          "text": [
            "This name most likely a female name\n"
          ]
        }
      ],
      "source": [
        "test_name('Linda')"
      ]
    },
    {
      "cell_type": "code",
      "source": [],
      "metadata": {
        "id": "4Mirb_IE4M_8"
      },
      "execution_count": null,
      "outputs": []
    }
  ],
  "metadata": {
    "kernelspec": {
      "display_name": "Python 3.9.12 ('base')",
      "language": "python",
      "name": "python3"
    },
    "language_info": {
      "codemirror_mode": {
        "name": "ipython",
        "version": 3
      },
      "file_extension": ".py",
      "mimetype": "text/x-python",
      "name": "python",
      "nbconvert_exporter": "python",
      "pygments_lexer": "ipython3",
      "version": "3.9.12"
    },
    "orig_nbformat": 4,
    "vscode": {
      "interpreter": {
        "hash": "65d054a8156fb6d916f2230465db1628df750ea484c0da444a73a5d2f0f12d7f"
      }
    },
    "colab": {
      "provenance": [],
      "collapsed_sections": []
    },
    "gpuClass": "standard"
  },
  "nbformat": 4,
  "nbformat_minor": 0
}